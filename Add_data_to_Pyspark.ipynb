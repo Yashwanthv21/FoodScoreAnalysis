{
 "cells": [
  {
   "cell_type": "code",
   "execution_count": 5,
   "metadata": {},
   "outputs": [],
   "source": [
    "# import some modules to be used in py-spark SQL\n",
    "from pyspark import SparkConf\n",
    "from pyspark.sql import SparkSession\n",
    "from pyspark.sql import HiveContext"
   ]
  },
  {
   "cell_type": "code",
   "execution_count": 8,
   "metadata": {},
   "outputs": [],
   "source": [
    "spark=SparkSession.builder.appName(\"PySpark_Testing\").getOrCreate()\n",
    "sc = spark.sparkContext\n",
    "sqlContext = HiveContext(sc)"
   ]
  },
  {
   "cell_type": "code",
   "execution_count": 22,
   "metadata": {},
   "outputs": [
    {
     "data": {
      "text/plain": [
       "Row(EWG Food Reports=[[\"EWG's Good Food On A Tight Budget\", 'https://www.ewg.org/goodfood/'], [\"EWG's Shopper's Guide to Pesticide in Produce\", 'https://www.ewg.org/foodnews/'], [\"Children's Cereal: Sugar by the Pound\", 'https://www.ewg.org/research/childrens-cereals'], [\"Meat Eater's Guide to Climate Change + Health\", 'https://www.ewg.org/meateatersguide/'], [\"How Much is Too Much? Excess Vitamins and Minerals in Food Can Harm Kids' Health\", 'https://www.ewg.org/research/how-much-is-too-much']], EWG's Top Findings=[['positive', 'Certified organic product [read more]'], ['positive', 'No ingredient concerns identified for this product [read more]'], ['positive', 'Does not contain artificial or industrial ingredients [read more]'], ['positive', 'Per gram, high in protein [read more]'], ['positive', 'Good source of naturally occurring iron [read more]'], ['positive', 'Product has been classified as having no processing concerns']], Ingredient List=['ORGANIC SOYBEANS.'], Other Information=[['positive', 'This product is certified organic and, therefore, was produced without the use of synthetic pesticides and fertilizers, and free of genetically engineered ingredients. [read more]'], ['neutral', 'Contains ingredients derived from soybean - these are considered major food allergens according to the FDA [read more]']], calories='Amount Per 2/3 cup Calories 140 ', categeory=['Home', '365 Everyday Value'], ingredient_score='0', nutrients=Row(AVOID TOO MUCH:=Row(Added Sugar Ingredients:  none listed='', Cholesterol  0 mg='0.0', Monounsaturated Fat  0 g=None, Polyunsaturated Fat  3 g=None, Saturated Fat  0 g='3.0', Sodium  0 mg=None, Sodium  5 mg='0.0', Trans Fat   0.0g=None, Trans Fat  0.0g=''), NUTRIENTS:=Row(Calcium='8.0', Dietary Fiber  4 g='15.0', Dietary Fiber  5 g=None, Dietary Fiber  6 g=None, Iron='10.0', Manganese=None, Phosphorus=None, Potassium (no value on present label)=None, Potassium 160 mg=None, Potassium 480 mg='14.0', Potassium 75 mg=None, Vitamin A='4.0', Vitamin C='20.0', Vitamin D (no value on present label)='', Zinc=None), QUICK FACTS:=Row(Protein  12 g='24.0', Protein  3 g=None, Protein  6 g=None, Protein  <1 g=None, Sugars  0 g=None, Sugars  3 g='', Total Carbs  11 g='4.0', Total Carbs  17 g=None, Total Carbs  32 g=None, Total Carbs  4 g=None, Total Fat  0 g=None, Total Fat  3 g=None, Total Fat  5 g='8.0')), nutrition_score='1', processing_score='0', product_img='https://phorcys-static.ewg.org/brand_logo/logos/3215/medium.png?1346374049', product_title='365 Everyday Value Organic Blanched Shelled Edamame Soybeans', product_url='https://www.ewg.org/foodscores/products/099482462963-365EverydayValueOrganicBlanchedShelledEdamameSoybeans', serving_size='2.0 cup (1x)', total_score='10')"
      ]
     },
     "execution_count": 22,
     "metadata": {},
     "output_type": "execute_result"
    }
   ],
   "source": [
    "df = spark.read.json('foodscore/foodscore/food_details.jl')\n",
    "df.head()"
   ]
  },
  {
   "cell_type": "code",
   "execution_count": 18,
   "metadata": {},
   "outputs": [
    {
     "data": {
      "text/plain": [
       "pyspark.sql.dataframe.DataFrame"
      ]
     },
     "execution_count": 18,
     "metadata": {},
     "output_type": "execute_result"
    }
   ],
   "source": [
    "type(df)"
   ]
  },
  {
   "cell_type": "code",
   "execution_count": 20,
   "metadata": {},
   "outputs": [
    {
     "data": {
      "text/plain": [
       "Row(EWG Food Reports=[[\"EWG's Good Food On A Tight Budget\", 'https://www.ewg.org/goodfood/'], [\"EWG's Shopper's Guide to Pesticide in Produce\", 'https://www.ewg.org/foodnews/'], [\"Children's Cereal: Sugar by the Pound\", 'https://www.ewg.org/research/childrens-cereals'], [\"Meat Eater's Guide to Climate Change + Health\", 'https://www.ewg.org/meateatersguide/'], [\"How Much is Too Much? Excess Vitamins and Minerals in Food Can Harm Kids' Health\", 'https://www.ewg.org/research/how-much-is-too-much']], EWG's Top Findings=[['positive', 'Certified organic product [read more]'], ['positive', 'No ingredient concerns identified for this product [read more]'], ['positive', 'Does not contain artificial or industrial ingredients [read more]'], ['positive', 'Per gram, high in protein [read more]'], ['positive', 'Good source of naturally occurring iron [read more]'], ['positive', 'Product has been classified as having no processing concerns']], Ingredient List=['ORGANIC SOYBEANS.'], Other Information=[['positive', 'This product is certified organic and, therefore, was produced without the use of synthetic pesticides and fertilizers, and free of genetically engineered ingredients. [read more]'], ['neutral', 'Contains ingredients derived from soybean - these are considered major food allergens according to the FDA [read more]']], calories='Amount Per 2/3 cup Calories 140 ', categeory=['Home', '365 Everyday Value'], ingredient_score='0', nutrients=Row(AVOID TOO MUCH:=Row(Added Sugar Ingredients:  none listed='', Cholesterol  0 mg='0.0', Monounsaturated Fat  0 g=None, Polyunsaturated Fat  3 g=None, Saturated Fat  0 g='3.0', Sodium  0 mg=None, Sodium  5 mg='0.0', Trans Fat   0.0g=None, Trans Fat  0.0g=''), NUTRIENTS:=Row(Calcium='8.0', Dietary Fiber  4 g='15.0', Dietary Fiber  5 g=None, Dietary Fiber  6 g=None, Iron='10.0', Manganese=None, Phosphorus=None, Potassium (no value on present label)=None, Potassium 160 mg=None, Potassium 480 mg='14.0', Potassium 75 mg=None, Vitamin A='4.0', Vitamin C='20.0', Vitamin D (no value on present label)='', Zinc=None), QUICK FACTS:=Row(Protein  12 g='24.0', Protein  3 g=None, Protein  6 g=None, Protein  <1 g=None, Sugars  0 g=None, Sugars  3 g='', Total Carbs  11 g='4.0', Total Carbs  17 g=None, Total Carbs  32 g=None, Total Carbs  4 g=None, Total Fat  0 g=None, Total Fat  3 g=None, Total Fat  5 g='8.0')), nutrition_score='1', processing_score='0', product_img='https://phorcys-static.ewg.org/brand_logo/logos/3215/medium.png?1346374049', product_title='365 Everyday Value Organic Blanched Shelled Edamame Soybeans', product_url='https://www.ewg.org/foodscores/products/099482462963-365EverydayValueOrganicBlanchedShelledEdamameSoybeans', serving_size='2.0 cup (1x)', total_score='10')"
      ]
     },
     "execution_count": 20,
     "metadata": {},
     "output_type": "execute_result"
    }
   ],
   "source": [
    "df = sqlContext.read.json('foodscore/foodscore/food_details.jl')\n",
    "df.head()"
   ]
  },
  {
   "cell_type": "code",
   "execution_count": 21,
   "metadata": {},
   "outputs": [
    {
     "data": {
      "text/plain": [
       "pyspark.sql.dataframe.DataFrame"
      ]
     },
     "execution_count": 21,
     "metadata": {},
     "output_type": "execute_result"
    }
   ],
   "source": [
    "type(df)"
   ]
  },
  {
   "cell_type": "code",
   "execution_count": 23,
   "metadata": {},
   "outputs": [
    {
     "data": {
      "text/plain": [
       "<bound method DataFrame.printSchema of DataFrame[EWG Food Reports: array<array<string>>, EWG's Top Findings: array<array<string>>, Ingredient List: array<string>, Other Information: array<array<string>>, calories: string, categeory: array<string>, ingredient_score: string, nutrients: struct<AVOID TOO MUCH::struct<Added Sugar Ingredients:  none listed:string,Cholesterol  0 mg:string,Monounsaturated Fat  0 g:string,Polyunsaturated Fat  3 g:string,Saturated Fat  0 g:string,Sodium  0 mg:string,Sodium  5 mg:string,Trans Fat   0.0g:string,Trans Fat  0.0g:string>,NUTRIENTS::struct<Calcium:string,Dietary Fiber  4 g:string,Dietary Fiber  5 g:string,Dietary Fiber  6 g:string,Iron:string,Manganese:string,Phosphorus:string,Potassium (no value on present label):string,Potassium 160 mg:string,Potassium 480 mg:string,Potassium 75 mg:string,Vitamin A:string,Vitamin C:string,Vitamin D (no value on present label):string,Zinc:string>,QUICK FACTS::struct<Protein  12 g:string,Protein  3 g:bigint,Protein  6 g:bigint,Protein  <1 g:bigint,Sugars  0 g:string,Sugars  3 g:string,Total Carbs  11 g:string,Total Carbs  17 g:string,Total Carbs  32 g:string,Total Carbs  4 g:string,Total Fat  0 g:string,Total Fat  3 g:string,Total Fat  5 g:string>>, nutrition_score: string, processing_score: string, product_img: string, product_title: string, product_url: string, serving_size: string, total_score: string]>"
      ]
     },
     "execution_count": 23,
     "metadata": {},
     "output_type": "execute_result"
    }
   ],
   "source": [
    "df.printSchema"
   ]
  },
  {
   "cell_type": "code",
   "execution_count": 27,
   "metadata": {},
   "outputs": [
    {
     "name": "stdout",
     "output_type": "stream",
     "text": [
      "+--------------------+--------------------+--------------------+--------------------+--------------------+--------------------+----------------+--------------------+---------------+----------------+--------------------+--------------------+--------------------+------------+-----------+\n",
      "|    EWG Food Reports|  EWG's Top Findings|     Ingredient List|   Other Information|            calories|           categeory|ingredient_score|           nutrients|nutrition_score|processing_score|         product_img|       product_title|         product_url|serving_size|total_score|\n",
      "+--------------------+--------------------+--------------------+--------------------+--------------------+--------------------+----------------+--------------------+---------------+----------------+--------------------+--------------------+--------------------+------------+-----------+\n",
      "|[[EWG's Good Food...|[[positive, Certi...| [ORGANIC SOYBEANS.]|[[positive, This ...|Amount Per 2/3 cu...|[Home, 365 Everyd...|               0|[[, 0.0,,, 3.0,, ...|              1|               0|https://phorcys-s...|365 Everyday Valu...|https://www.ewg.o...|2.0 cup (1x)|         10|\n",
      "|[[EWG's Good Food...|[[positive, Certi...|[ORGANIC STRAWBER...|[[positive, This ...|Amount Per 1 cup ...|[Home, 365 Everyd...|               0|[[, 0.0,,, 0.0, 0...|              1|               1|https://phorcys-s...|365 Everyday Valu...|https://www.ewg.o...|  1 cup (1x)|         10|\n",
      "|[[EWG's Good Food...|[[positive, Certi...|[ORGANIC BARLEY, ...|[[positive, This ...|Amount Per 1/4 cu...|[Home, 365 Everyd...|               0|[[, 0.0,,, 0.0, 0...|              1|               1|https://phorcys-s...|365 Everyday Valu...|https://www.ewg.o...|  1 cup (1x)|         10|\n",
      "|[[EWG's Good Food...|[[positive, Certi...|[ORGANIC BLACK CH...|[[positive, This ...|Amount Per 1 Tbsp...|[Home, 365 Everyd...|               0|[[, 0.0, , , 0.0,...|              1|               1|https://phorcys-s...|365 Everyday Valu...|https://www.ewg.o...| 1 Tbsp (1x)|         10|\n",
      "|[[EWG's Good Food...|[[positive, Certi...|[ORGANIC BLACK CH...|[[positive, This ...|Amount Per 1 Tbsp...|[Home, Grains, Ch...|               0|[[, 0.0, , , 0.0,...|              1|               1|https://phorcys-s...|365 Everyday Valu...|https://www.ewg.o...| 1 Tbsp (1x)|         10|\n",
      "+--------------------+--------------------+--------------------+--------------------+--------------------+--------------------+----------------+--------------------+---------------+----------------+--------------------+--------------------+--------------------+------------+-----------+\n",
      "\n"
     ]
    }
   ],
   "source": [
    "df.show()"
   ]
  },
  {
   "cell_type": "code",
   "execution_count": 28,
   "metadata": {},
   "outputs": [
    {
     "data": {
      "text/plain": [
       "['EWG Food Reports',\n",
       " \"EWG's Top Findings\",\n",
       " 'Ingredient List',\n",
       " 'Other Information',\n",
       " 'calories',\n",
       " 'categeory',\n",
       " 'ingredient_score',\n",
       " 'nutrients',\n",
       " 'nutrition_score',\n",
       " 'processing_score',\n",
       " 'product_img',\n",
       " 'product_title',\n",
       " 'product_url',\n",
       " 'serving_size',\n",
       " 'total_score']"
      ]
     },
     "execution_count": 28,
     "metadata": {},
     "output_type": "execute_result"
    }
   ],
   "source": [
    "df.columns"
   ]
  },
  {
   "cell_type": "code",
   "execution_count": 31,
   "metadata": {},
   "outputs": [
    {
     "data": {
      "text/plain": [
       "[[[\"EWG's Good Food On A Tight Budget\", 'https://www.ewg.org/goodfood/'],\n",
       "  [\"EWG's Shopper's Guide to Pesticide in Produce\",\n",
       "   'https://www.ewg.org/foodnews/'],\n",
       "  [\"Children's Cereal: Sugar by the Pound\",\n",
       "   'https://www.ewg.org/research/childrens-cereals'],\n",
       "  [\"Meat Eater's Guide to Climate Change + Health\",\n",
       "   'https://www.ewg.org/meateatersguide/'],\n",
       "  [\"How Much is Too Much? Excess Vitamins and Minerals in Food Can Harm Kids' Health\",\n",
       "   'https://www.ewg.org/research/how-much-is-too-much']],\n",
       " [['positive', 'Certified organic product [read more]'],\n",
       "  ['positive',\n",
       "   'No ingredient concerns identified for this product [read more]'],\n",
       "  ['positive',\n",
       "   'Does not contain artificial or industrial ingredients [read more]'],\n",
       "  ['positive', 'Per gram, high in protein [read more]'],\n",
       "  ['positive', 'Good source of naturally occurring iron [read more]'],\n",
       "  ['positive',\n",
       "   'Product has been classified as having no processing concerns']]]"
      ]
     },
     "execution_count": 31,
     "metadata": {},
     "output_type": "execute_result"
    }
   ],
   "source": [
    "df.rdd.flatMap(lambda x: x).take(2)"
   ]
  },
  {
   "cell_type": "code",
   "execution_count": 32,
   "metadata": {},
   "outputs": [
    {
     "name": "stdout",
     "output_type": "stream",
     "text": [
      "root\n",
      " |-- EWG Food Reports: array (nullable = true)\n",
      " |    |-- element: array (containsNull = true)\n",
      " |    |    |-- element: string (containsNull = true)\n",
      " |-- EWG's Top Findings: array (nullable = true)\n",
      " |    |-- element: array (containsNull = true)\n",
      " |    |    |-- element: string (containsNull = true)\n",
      " |-- Ingredient List: array (nullable = true)\n",
      " |    |-- element: string (containsNull = true)\n",
      " |-- Other Information: array (nullable = true)\n",
      " |    |-- element: array (containsNull = true)\n",
      " |    |    |-- element: string (containsNull = true)\n",
      " |-- calories: string (nullable = true)\n",
      " |-- categeory: array (nullable = true)\n",
      " |    |-- element: string (containsNull = true)\n",
      " |-- ingredient_score: string (nullable = true)\n",
      " |-- nutrients: struct (nullable = true)\n",
      " |    |-- AVOID TOO MUCH:: struct (nullable = true)\n",
      " |    |    |-- Added Sugar Ingredients:  none listed: string (nullable = true)\n",
      " |    |    |-- Cholesterol  0 mg: string (nullable = true)\n",
      " |    |    |-- Monounsaturated Fat  0 g: string (nullable = true)\n",
      " |    |    |-- Polyunsaturated Fat  3 g: string (nullable = true)\n",
      " |    |    |-- Saturated Fat  0 g: string (nullable = true)\n",
      " |    |    |-- Sodium  0 mg: string (nullable = true)\n",
      " |    |    |-- Sodium  5 mg: string (nullable = true)\n",
      " |    |    |-- Trans Fat   0.0g: string (nullable = true)\n",
      " |    |    |-- Trans Fat  0.0g: string (nullable = true)\n",
      " |    |-- NUTRIENTS:: struct (nullable = true)\n",
      " |    |    |-- Calcium: string (nullable = true)\n",
      " |    |    |-- Dietary Fiber  4 g: string (nullable = true)\n",
      " |    |    |-- Dietary Fiber  5 g: string (nullable = true)\n",
      " |    |    |-- Dietary Fiber  6 g: string (nullable = true)\n",
      " |    |    |-- Iron: string (nullable = true)\n",
      " |    |    |-- Manganese: string (nullable = true)\n",
      " |    |    |-- Phosphorus: string (nullable = true)\n",
      " |    |    |-- Potassium (no value on present label): string (nullable = true)\n",
      " |    |    |-- Potassium 160 mg: string (nullable = true)\n",
      " |    |    |-- Potassium 480 mg: string (nullable = true)\n",
      " |    |    |-- Potassium 75 mg: string (nullable = true)\n",
      " |    |    |-- Vitamin A: string (nullable = true)\n",
      " |    |    |-- Vitamin C: string (nullable = true)\n",
      " |    |    |-- Vitamin D (no value on present label): string (nullable = true)\n",
      " |    |    |-- Zinc: string (nullable = true)\n",
      " |    |-- QUICK FACTS:: struct (nullable = true)\n",
      " |    |    |-- Protein  12 g: string (nullable = true)\n",
      " |    |    |-- Protein  3 g: long (nullable = true)\n",
      " |    |    |-- Protein  6 g: long (nullable = true)\n",
      " |    |    |-- Protein  <1 g: long (nullable = true)\n",
      " |    |    |-- Sugars  0 g: string (nullable = true)\n",
      " |    |    |-- Sugars  3 g: string (nullable = true)\n",
      " |    |    |-- Total Carbs  11 g: string (nullable = true)\n",
      " |    |    |-- Total Carbs  17 g: string (nullable = true)\n",
      " |    |    |-- Total Carbs  32 g: string (nullable = true)\n",
      " |    |    |-- Total Carbs  4 g: string (nullable = true)\n",
      " |    |    |-- Total Fat  0 g: string (nullable = true)\n",
      " |    |    |-- Total Fat  3 g: string (nullable = true)\n",
      " |    |    |-- Total Fat  5 g: string (nullable = true)\n",
      " |-- nutrition_score: string (nullable = true)\n",
      " |-- processing_score: string (nullable = true)\n",
      " |-- product_img: string (nullable = true)\n",
      " |-- product_title: string (nullable = true)\n",
      " |-- product_url: string (nullable = true)\n",
      " |-- serving_size: string (nullable = true)\n",
      " |-- total_score: string (nullable = true)\n",
      "\n"
     ]
    }
   ],
   "source": [
    "df.printSchema()"
   ]
  },
  {
   "cell_type": "code",
   "execution_count": 34,
   "metadata": {},
   "outputs": [
    {
     "name": "stdout",
     "output_type": "stream",
     "text": [
      "+--------------------+--------------------+--------------------+\n",
      "|     AVOID TOO MUCH:|          NUTRIENTS:|        QUICK FACTS:|\n",
      "+--------------------+--------------------+--------------------+\n",
      "|[, 0.0,,, 3.0,, 0...|[8.0, 15.0,,, 10....|[24.0,,,,, , 4.0,...|\n",
      "|[, 0.0,,, 0.0, 0....|[0.0,, 18.0,, 4.0...|[,,, 0,,,, 6.0,,,...|\n",
      "|[, 0.0,,, 0.0, 0....|[0.0,,, 24.0, 8.0...|[,, 0,, ,,,, 11.0...|\n",
      "|[, 0.0, , , 0.0, ...|[6.0, 16.0,,, 6.0...|[, 0,,, ,,,,, 1.0...|\n",
      "|[, 0.0, , , 0.0, ...|[6.0, 16.0,,, 6.0...|[, 0,,, ,,,,, 1.0...|\n",
      "+--------------------+--------------------+--------------------+\n",
      "\n"
     ]
    }
   ],
   "source": [
    "# https://stackoverflow.com/questions/49416637/access-dataframes-row-inside-row-nested-json-with-pyspark\n",
    "from pyspark.sql.functions import col\n",
    "df.select(col(\"nutrients.*\")).show()"
   ]
  },
  {
   "cell_type": "code",
   "execution_count": 36,
   "metadata": {},
   "outputs": [
    {
     "name": "stdout",
     "output_type": "stream",
     "text": [
      "+--------------------+\n",
      "|  EWG's Top Findings|\n",
      "+--------------------+\n",
      "|[[positive, Certi...|\n",
      "|[[positive, Certi...|\n",
      "|[[positive, Certi...|\n",
      "|[[positive, Certi...|\n",
      "|[[positive, Certi...|\n",
      "+--------------------+\n",
      "\n"
     ]
    }
   ],
   "source": [
    "df.select(col(\"EWG's Top Findings\")).show()"
   ]
  },
  {
   "cell_type": "code",
   "execution_count": 40,
   "metadata": {},
   "outputs": [
    {
     "name": "stdout",
     "output_type": "stream",
     "text": [
      "+-----------+\n",
      "|total_score|\n",
      "+-----------+\n",
      "|         10|\n",
      "|         10|\n",
      "|         10|\n",
      "|         10|\n",
      "|         10|\n",
      "+-----------+\n",
      "\n"
     ]
    }
   ],
   "source": [
    "df.select(col(\"total_score\")).show()"
   ]
  },
  {
   "cell_type": "code",
   "execution_count": 38,
   "metadata": {},
   "outputs": [
    {
     "name": "stdout",
     "output_type": "stream",
     "text": [
      "+--------------------+\n",
      "|     Ingredient List|\n",
      "+--------------------+\n",
      "| [ORGANIC SOYBEANS.]|\n",
      "|[ORGANIC STRAWBER...|\n",
      "|[ORGANIC BARLEY, ...|\n",
      "|[ORGANIC BLACK CH...|\n",
      "|[ORGANIC BLACK CH...|\n",
      "+--------------------+\n",
      "\n"
     ]
    }
   ],
   "source": [
    "df.select(col(\"Ingredient List\")).show()"
   ]
  },
  {
   "cell_type": "code",
   "execution_count": 41,
   "metadata": {},
   "outputs": [
    {
     "name": "stdout",
     "output_type": "stream",
     "text": [
      "+--------------------+--------------------+----+\n",
      "|         product_url|     Ingredient List|ones|\n",
      "+--------------------+--------------------+----+\n",
      "|https://www.ewg.o...|[ORGANIC STRAWBER...|   0|\n",
      "|https://www.ewg.o...|[ORGANIC BLACK CH...|   1|\n",
      "|https://www.ewg.o...|[ORGANIC BARLEY, ...|   0|\n",
      "|https://www.ewg.o...|[ORGANIC BLACK CH...|   1|\n",
      "|https://www.ewg.o...| [ORGANIC SOYBEANS.]|   0|\n",
      "+--------------------+--------------------+----+\n",
      "\n"
     ]
    }
   ],
   "source": [
    "from pyspark.sql.functions import col, count, explode, sum as sum_\n",
    "\n",
    "df.select(\"*\", explode(\"Ingredient List\").alias(\"exploded\"))\\\n",
    "    .withColumn(\"exploded\", (col(\"exploded\") == 'ORGANIC BLACK CHIA SEED.').cast(\"int\"))\\\n",
    "    .groupBy(\"product_url\", \"Ingredient List\")\\\n",
    "    .agg(sum_(\"exploded\").alias(\"ones\"))\\\n",
    "    .show()"
   ]
  },
  {
   "cell_type": "code",
   "execution_count": null,
   "metadata": {},
   "outputs": [],
   "source": []
  }
 ],
 "metadata": {
  "kernelspec": {
   "display_name": "Python 3",
   "language": "python",
   "name": "python3"
  },
  "language_info": {
   "codemirror_mode": {
    "name": "ipython",
    "version": 3
   },
   "file_extension": ".py",
   "mimetype": "text/x-python",
   "name": "python",
   "nbconvert_exporter": "python",
   "pygments_lexer": "ipython3",
   "version": "3.6.9"
  }
 },
 "nbformat": 4,
 "nbformat_minor": 2
}
